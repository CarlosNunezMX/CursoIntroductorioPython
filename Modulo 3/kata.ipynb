{
 "cells": [
  {
   "cell_type": "markdown",
   "metadata": {},
   "source": [
    "Para este ejercicio, escribirás una lógica condicional que imprima una advertencia si un asteroide se acerca a la Tierra demasiado rápido. La velocidad del asteroide varía dependiendo de lo cerca que esté del sol, y cualquier velocidad superior a 25 kilómetros por segundo (km/s) merece una advertencia."
   ]
  },
  {
   "cell_type": "code",
   "execution_count": 2,
   "metadata": {},
   "outputs": [
    {
     "name": "stdout",
     "output_type": "stream",
     "text": [
      "PELIGRO: ASTEROIDE ACERCANDOSE A LA TIERRA CON UNA VELOCIDAD DE 49 km/s!\n"
     ]
    }
   ],
   "source": [
    "maximaVelocidad = 25\n",
    "velocidadActual = 49\n",
    "\n",
    "if velocidadActual > maximaVelocidad:\n",
    "    print(\"PELIGRO: ASTEROIDE ACERCANDOSE A LA TIERRA CON UNA VELOCIDAD DE \" + str(velocidadActual) + \" km/s!\")\n",
    "else:\n",
    "    print(\"Estamos a salvo!\")"
   ]
  },
  {
   "cell_type": "markdown",
   "metadata": {},
   "source": [
    "Si un asteroide entra en la atmósfera de la Tierra a una velocidad mayor o igual a 20 km/s, a veces produce un rayo de luz que se puede ver desde la Tierra. Escribe la lógica condicional que usa declaraciones if, else, y elif para alertar a las personas de todo el mundo que deben buscar un asteroide en el cielo. ¡Hay uno que se dirige a la tierra ahora a una velocidad de 19 km/s!"
   ]
  },
  {
   "cell_type": "code",
   "execution_count": 3,
   "metadata": {},
   "outputs": [
    {
     "name": "stdout",
     "output_type": "stream",
     "text": [
      "El asteroide no dejara luz por su paso\n"
     ]
    }
   ],
   "source": [
    "velocidadActual = 19\n",
    "maximaVelocidad = 20\n",
    "entroAtmosfera  = True\n",
    "\n",
    "if entroAtmosfera:\n",
    "    if velocidadActual >= maximaVelocidad:\n",
    "        print(\"Mirar al cielo que hay un asteroide que esta dejando su luz\")\n",
    "    else:\n",
    "        print(\"El asteroide no dejara luz por su paso\")\n",
    "elif not entroAtmosfera and velocidadActual > 25:\n",
    "        print(\"PELIGRO: ASTEROIDE ACERCANDOSE A LA TIERRA CON UNA VELOCIDAD DE \" + str(velocidadActual) + \" km/s!\")\n",
    "else:\n",
    "        print(\"Estamos a salvo!\")"
   ]
  },
  {
   "cell_type": "code",
   "execution_count": 6,
   "metadata": {},
   "outputs": [
    {
     "name": "stdout",
     "output_type": "stream",
     "text": [
      "El asteroide no dejara luz por su paso\n",
      "Habra una aniquilacion planetaria! :C\n"
     ]
    }
   ],
   "source": [
    "# VELOCIDADES\n",
    "velocidadActual = 19\n",
    "maximaVelocidad = 20\n",
    "entroAtmosfera  = True\n",
    "\n",
    "# TAMAÑOS\n",
    "seQuemaran = 25 # Menores de 25 metros\n",
    "fullAniquilacion = 1000 # Mayores de 25 pero menores de 1000\n",
    "szAsteroide = 40\n",
    "\n",
    "if entroAtmosfera:\n",
    "    if velocidadActual >= maximaVelocidad:\n",
    "        print(\"Mirar al cielo que hay un asteroide que esta dejando su luz\")\n",
    "    else:\n",
    "        print(\"El asteroide no dejara luz por su paso\")\n",
    "\n",
    "    if szAsteroide <= seQuemaran:\n",
    "        print(\"No hay peligro existente\")\n",
    "    elif szAsteroide > seQuemaran and szAsteroide <= fullAniquilacion:\n",
    "        print(\"Habra una aniquilacion planetaria! :C\")\n",
    "elif not entroAtmosfera and velocidadActual > 25:\n",
    "        print(\"PELIGRO: ASTEROIDE ACERCANDOSE A LA TIERRA CON UNA VELOCIDAD DE \" + str(velocidadActual) + \" km/s!\")\n",
    "else:\n",
    "        print(\"Estamos a salvo!\")"
   ]
  }
 ],
 "metadata": {
  "interpreter": {
   "hash": "d2152fd7f0bbc62aa1baff8c990435d1e2c7175d001561303988032604c11a48"
  },
  "kernelspec": {
   "display_name": "Python 3.10.4 64-bit",
   "language": "python",
   "name": "python3"
  },
  "language_info": {
   "codemirror_mode": {
    "name": "ipython",
    "version": 3
   },
   "file_extension": ".py",
   "mimetype": "text/x-python",
   "name": "python",
   "nbconvert_exporter": "python",
   "pygments_lexer": "ipython3",
   "version": "3.10.4"
  },
  "orig_nbformat": 4
 },
 "nbformat": 4,
 "nbformat_minor": 2
}
